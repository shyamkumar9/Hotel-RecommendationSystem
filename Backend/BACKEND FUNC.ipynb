{
 "cells": [
  {
   "cell_type": "code",
   "execution_count": 7,
   "id": "874bc8b9",
   "metadata": {},
   "outputs": [],
   "source": [
    "import pandas as pd"
   ]
  },
  {
   "cell_type": "code",
   "execution_count": 19,
   "id": "91f7d572",
   "metadata": {},
   "outputs": [
    {
     "data": {
      "text/html": [
       "<div>\n",
       "<style scoped>\n",
       "    .dataframe tbody tr th:only-of-type {\n",
       "        vertical-align: middle;\n",
       "    }\n",
       "\n",
       "    .dataframe tbody tr th {\n",
       "        vertical-align: top;\n",
       "    }\n",
       "\n",
       "    .dataframe thead th {\n",
       "        text-align: right;\n",
       "    }\n",
       "</style>\n",
       "<table border=\"1\" class=\"dataframe\">\n",
       "  <thead>\n",
       "    <tr style=\"text-align: right;\">\n",
       "      <th></th>\n",
       "      <th>assigned_cluster</th>\n",
       "      <th>Hotel_Name</th>\n",
       "      <th>confidence_score</th>\n",
       "      <th>Ratings</th>\n",
       "    </tr>\n",
       "  </thead>\n",
       "  <tbody>\n",
       "    <tr>\n",
       "      <th>0</th>\n",
       "      <td>1</td>\n",
       "      <td>Amarante Beau Manoir</td>\n",
       "      <td>0.25</td>\n",
       "      <td>3.0</td>\n",
       "    </tr>\n",
       "    <tr>\n",
       "      <th>1</th>\n",
       "      <td>1</td>\n",
       "      <td>Hotel Mademoiselle</td>\n",
       "      <td>0.25</td>\n",
       "      <td>4.3</td>\n",
       "    </tr>\n",
       "    <tr>\n",
       "      <th>2</th>\n",
       "      <td>1</td>\n",
       "      <td>Hotel Parc Saint Severin Esprit de France</td>\n",
       "      <td>0.25</td>\n",
       "      <td>1.8</td>\n",
       "    </tr>\n",
       "    <tr>\n",
       "      <th>3</th>\n",
       "      <td>1</td>\n",
       "      <td>Le Marceau Bastille</td>\n",
       "      <td>0.25</td>\n",
       "      <td>1.8</td>\n",
       "    </tr>\n",
       "    <tr>\n",
       "      <th>4</th>\n",
       "      <td>1</td>\n",
       "      <td>Mercure Grand Hotel Biedermeier Wien</td>\n",
       "      <td>0.25</td>\n",
       "      <td>4.9</td>\n",
       "    </tr>\n",
       "  </tbody>\n",
       "</table>\n",
       "</div>"
      ],
      "text/plain": [
       "   assigned_cluster                                 Hotel_Name  \\\n",
       "0                 1                       Amarante Beau Manoir   \n",
       "1                 1                         Hotel Mademoiselle   \n",
       "2                 1  Hotel Parc Saint Severin Esprit de France   \n",
       "3                 1                        Le Marceau Bastille   \n",
       "4                 1       Mercure Grand Hotel Biedermeier Wien   \n",
       "\n",
       "   confidence_score  Ratings  \n",
       "0              0.25      3.0  \n",
       "1              0.25      4.3  \n",
       "2              0.25      1.8  \n",
       "3              0.25      1.8  \n",
       "4              0.25      4.9  "
      ]
     },
     "execution_count": 19,
     "metadata": {},
     "output_type": "execute_result"
    }
   ],
   "source": [
    "df = pd.read_csv(\"test.csv\")\n",
    "df.head()"
   ]
  },
  {
   "cell_type": "code",
   "execution_count": 30,
   "id": "171f09f8",
   "metadata": {},
   "outputs": [],
   "source": [
    "def recommend_hotels(df, pref1, pref2, pref3):\n",
    "    \n",
    "    preferred_clusters = [pref1, pref2, pref3]\n",
    "    weights = {preferred_clusters[0]: 0.5, preferred_clusters[1]:0.3, preferred_clusters[2]: 0.2}\n",
    "    top_hotels = {}\n",
    "    \n",
    "    topNhotels = 5\n",
    "    for cluster in preferred_clusters:\n",
    "        cluster_df = df[df['assigned_cluster'] == cluster].sort_values('confidence_score', ascending=False)\n",
    "        top_hotels[cluster] = list(cluster_df['Hotel_Name'][:topNhotels])\n",
    "    \n",
    "    print(top_hotels)\n",
    "        \n",
    "    recommended_hotels = []\n",
    "    for i in range(topNhotels):\n",
    "        for cluster in preferred_clusters:\n",
    "            if len(top_hotels[cluster]) > i:\n",
    "                hotel = top_hotels[cluster][i]\n",
    "                confidence_score = df[df['Hotel_Name'] == hotel]['confidence_score'].values[0]\n",
    "                hotel_ratings =  df[df['Hotel_Name'] == hotel]['Ratings'].values[0]\n",
    "                recommended_hotels.append((hotel, confidence_score * weights[cluster],hotel_ratings))\n",
    "    \n",
    "    recommended_hotels.sort(key=lambda x: x[1], reverse=True)\n",
    "    return [hotel for hotel in recommended_hotels[:topNhotels]]\n"
   ]
  },
  {
   "cell_type": "code",
   "execution_count": 31,
   "id": "a47372c7",
   "metadata": {},
   "outputs": [
    {
     "name": "stdout",
     "output_type": "stream",
     "text": [
      "{1: ['Amarante Beau Manoir', 'Montfleuri', 'Sydney House Chelsea', 'NH London Kensington', 'Hotel Mademoiselle'], 2: ['Novotel Suites Paris Nord 18 me', 'Barcel Milan', 'Best Western Maitrise Hotel Edgware Road', 'Novotel Suites Paris Montreuil Vincennes', 'Radisson Blu Hotel Milan'], 4: ['IH Hotels Milano Lorenteggio', 'Hotel Am Konzerthaus Vienna MGallery by Sofitel', 'Grange Blooms Hotel', 'Courtyard by Marriott Vienna Prater Messe', 'Chambiges Elys es']}\n"
     ]
    },
    {
     "data": {
      "text/plain": [
       "[('Amarante Beau Manoir', 0.125, 3.0),\n",
       " ('Montfleuri', 0.125, 3.6),\n",
       " ('Sydney House Chelsea', 0.125, 3.0),\n",
       " ('NH London Kensington', 0.125, 5.0),\n",
       " ('Hotel Mademoiselle', 0.125, 4.3)]"
      ]
     },
     "execution_count": 31,
     "metadata": {},
     "output_type": "execute_result"
    }
   ],
   "source": [
    "preferred_clusters = [1,2,4]\n",
    "recommend_hotels(df, 1,2,4)"
   ]
  },
  {
   "cell_type": "code",
   "execution_count": 29,
   "id": "7ba9c51a",
   "metadata": {},
   "outputs": [
    {
     "data": {
      "text/plain": [
       "[('Falkensteiner Hotel Wien Margareten', 0.125, 4.0),\n",
       " ('Best Western Hotel Montmartre Sacr Coeur', 0.1125, 2.3),\n",
       " ('Acca Palace', 0.1, 1.7),\n",
       " ('Austria Trend Hotel Anatol Wien', 0.1, 3.1),\n",
       " ('Hilton Vienna Plaza', 0.1, 2.3)]"
      ]
     },
     "execution_count": 29,
     "metadata": {},
     "output_type": "execute_result"
    }
   ],
   "source": [
    "recommend_hotels(df, 3,2,4)"
   ]
  },
  {
   "cell_type": "code",
   "execution_count": null,
   "id": "dcb13b5b",
   "metadata": {},
   "outputs": [],
   "source": []
  },
  {
   "cell_type": "code",
   "execution_count": 13,
   "id": "947333c7",
   "metadata": {},
   "outputs": [],
   "source": [
    "df.to_csv(\"test.csv\",index=False)"
   ]
  },
  {
   "cell_type": "code",
   "execution_count": 14,
   "id": "752e11a7",
   "metadata": {},
   "outputs": [],
   "source": [
    "aa = pd.read_csv(\"test.csv\")"
   ]
  },
  {
   "cell_type": "code",
   "execution_count": 15,
   "id": "1d4221af",
   "metadata": {},
   "outputs": [
    {
     "data": {
      "text/html": [
       "<div>\n",
       "<style scoped>\n",
       "    .dataframe tbody tr th:only-of-type {\n",
       "        vertical-align: middle;\n",
       "    }\n",
       "\n",
       "    .dataframe tbody tr th {\n",
       "        vertical-align: top;\n",
       "    }\n",
       "\n",
       "    .dataframe thead th {\n",
       "        text-align: right;\n",
       "    }\n",
       "</style>\n",
       "<table border=\"1\" class=\"dataframe\">\n",
       "  <thead>\n",
       "    <tr style=\"text-align: right;\">\n",
       "      <th></th>\n",
       "      <th>assigned_cluster</th>\n",
       "      <th>Hotel_Name</th>\n",
       "      <th>confidence_score</th>\n",
       "      <th>Ratings</th>\n",
       "    </tr>\n",
       "  </thead>\n",
       "  <tbody>\n",
       "    <tr>\n",
       "      <th>0</th>\n",
       "      <td>1</td>\n",
       "      <td>Amarante Beau Manoir</td>\n",
       "      <td>0.25</td>\n",
       "      <td>3.0</td>\n",
       "    </tr>\n",
       "    <tr>\n",
       "      <th>1</th>\n",
       "      <td>1</td>\n",
       "      <td>Hotel Mademoiselle</td>\n",
       "      <td>0.25</td>\n",
       "      <td>4.3</td>\n",
       "    </tr>\n",
       "    <tr>\n",
       "      <th>2</th>\n",
       "      <td>1</td>\n",
       "      <td>Hotel Parc Saint Severin Esprit de France</td>\n",
       "      <td>0.25</td>\n",
       "      <td>1.8</td>\n",
       "    </tr>\n",
       "    <tr>\n",
       "      <th>3</th>\n",
       "      <td>1</td>\n",
       "      <td>Le Marceau Bastille</td>\n",
       "      <td>0.25</td>\n",
       "      <td>1.8</td>\n",
       "    </tr>\n",
       "    <tr>\n",
       "      <th>4</th>\n",
       "      <td>1</td>\n",
       "      <td>Mercure Grand Hotel Biedermeier Wien</td>\n",
       "      <td>0.25</td>\n",
       "      <td>4.9</td>\n",
       "    </tr>\n",
       "  </tbody>\n",
       "</table>\n",
       "</div>"
      ],
      "text/plain": [
       "   assigned_cluster                                 Hotel_Name  \\\n",
       "0                 1                       Amarante Beau Manoir   \n",
       "1                 1                         Hotel Mademoiselle   \n",
       "2                 1  Hotel Parc Saint Severin Esprit de France   \n",
       "3                 1                        Le Marceau Bastille   \n",
       "4                 1       Mercure Grand Hotel Biedermeier Wien   \n",
       "\n",
       "   confidence_score  Ratings  \n",
       "0              0.25      3.0  \n",
       "1              0.25      4.3  \n",
       "2              0.25      1.8  \n",
       "3              0.25      1.8  \n",
       "4              0.25      4.9  "
      ]
     },
     "execution_count": 15,
     "metadata": {},
     "output_type": "execute_result"
    }
   ],
   "source": [
    "aa.head()"
   ]
  },
  {
   "cell_type": "code",
   "execution_count": null,
   "id": "13bc53b5",
   "metadata": {},
   "outputs": [],
   "source": [
    "df.to_csv(\"test.csv\",index=False)\n",
    "\n",
    "aa = pd.read_csv(\"test.csv\")\n",
    "\n",
    "aa.head()"
   ]
  },
  {
   "cell_type": "code",
   "execution_count": null,
   "id": "50329336",
   "metadata": {},
   "outputs": [],
   "source": []
  },
  {
   "cell_type": "code",
   "execution_count": null,
   "id": "23bc8e8e",
   "metadata": {},
   "outputs": [],
   "source": []
  }
 ],
 "metadata": {
  "kernelspec": {
   "display_name": "Python 3",
   "language": "python",
   "name": "python3"
  },
  "language_info": {
   "codemirror_mode": {
    "name": "ipython",
    "version": 3
   },
   "file_extension": ".py",
   "mimetype": "text/x-python",
   "name": "python",
   "nbconvert_exporter": "python",
   "pygments_lexer": "ipython3",
   "version": "3.8.8"
  }
 },
 "nbformat": 4,
 "nbformat_minor": 5
}
